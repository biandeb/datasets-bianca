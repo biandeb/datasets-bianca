{
 "cells": [
  {
   "cell_type": "code",
   "execution_count": null,
   "id": "7d7a2dee-4031-4fdc-a44b-d9fcf0953b4e",
   "metadata": {},
   "outputs": [],
   "source": [
    "# Importamos librerías necesarias\n",
    "import pandas as pd\n",
    "\n",
    "# Dataset 1 - Customer Personality\n",
    "df1 = pd.read_csv(\"https://raw.githubusercontent.com/biandeb/datasets-bianca/main/marketing_campaign.csv\")\n",
    "print(\"Dataset 1:\")\n",
    "print(df1.shape)\n",
    "df1.head()\n",
    "\n",
    "# Dataset 2 - Netflix\n",
    "df2 = pd.read_csv(\"https://raw.githubusercontent.com/biandeb/datasets-bianca/main/netflix_titles.csv\")\n",
    "print(\"\\nDataset 2:\")\n",
    "print(df2.shape)\n",
    "df2.head()\n",
    "\n",
    "# Dataset 3 - Coffee Shop Daily Revenue\n",
    "df3 = pd.read_csv(\"https://raw.githubusercontent.com/biandeb/datasets-bianca/main/heart_failure_clinical_records_dataset.csv\")\n",
    "print(\"\\nDataset 3:\")\n",
    "print(df3.shape)\n",
    "df3.head()\n"
   ]
  },
  {
   "cell_type": "markdown",
   "id": "8bcc895b-42b8-49f3-9756-886e597b7095",
   "metadata": {},
   "source": [
    "### 🧠 Dataset 1 – Customer Personality Analysis\n",
    "\n",
    "Este dataset contiene información de clientes de una compañía minorista. Permite analizar su comportamiento de compra y respuesta a campañas de marketing.\n",
    "\n",
    "**Variables interesantes:**\n",
    "- `Income`: Nivel de ingreso del cliente. Útil para segmentar por poder adquisitivo.\n",
    "- `MntWines`, `MntFruits`, `MntMeatProducts`: Gasto en distintas categorías. Ayuda a entender hábitos de consumo.\n",
    "- `Recency`: Días desde la última compra. Indica cuán activo está el cliente.\n",
    "- `Response`: Si respondió o no a la última campaña (variable objetivo para predicción).\n"
   ]
  },
  {
   "cell_type": "markdown",
   "id": "83ef41b5-5c05-4913-8ef4-3f0e103cf2bb",
   "metadata": {},
   "source": [
    "### 🎬 Dataset 2 – Netflix Movies and TV Shows\n",
    "\n",
    "Este dataset incluye información sobre el catálogo de Netflix. Permite analizar el contenido según tipo, país, año y más.\n",
    "\n",
    "**Variables interesantes:**\n",
    "- `type`: Si es una película o serie. Útil para segmentar el contenido.\n",
    "- `release_year`: Año de lanzamiento. Permite ver tendencias temporales.\n",
    "- `country`: País de origen. Ayuda a estudiar la diversidad o enfoque geográfico.\n",
    "- `rating`: Clasificación por edad, útil para entender el público objetivo.\n"
   ]
  },
  {
   "cell_type": "markdown",
   "id": "b284fd0a-c038-4154-a11a-a26ac04ff278",
   "metadata": {},
   "source": [
    "### ☕ Dataset 3 – Coffee Shop Daily Revenue\n",
    "\n",
    "Este dataset analiza factores que influyen en los ingresos diarios de una cafetería. Ideal para modelado predictivo.\n",
    "\n",
    "**Variables interesantes:**\n",
    "- `Daily_Customers`: Cantidad diaria de clientes. Directamente ligada a ingresos.\n",
    "- `Average_Spend`: Gasto promedio por cliente. Determina rentabilidad.\n",
    "- `Marketing_Expenditure`: Inversión en marketing. Se puede relacionar con aumento de ventas.\n",
    "- `Staff_Count` y `Operating_Costs`: Variables de costo que afectan las ganancias.\n",
    "- `Daily_Revenue`: Variable objetivo. Se puede predecir con modelos supervisados.\n"
   ]
  }
 ],
 "metadata": {
  "kernelspec": {
   "display_name": "Python [conda env:base] *",
   "language": "python",
   "name": "conda-base-py"
  },
  "language_info": {
   "codemirror_mode": {
    "name": "ipython",
    "version": 3
   },
   "file_extension": ".py",
   "mimetype": "text/x-python",
   "name": "python",
   "nbconvert_exporter": "python",
   "pygments_lexer": "ipython3",
   "version": "3.12.7"
  }
 },
 "nbformat": 4,
 "nbformat_minor": 5
}
